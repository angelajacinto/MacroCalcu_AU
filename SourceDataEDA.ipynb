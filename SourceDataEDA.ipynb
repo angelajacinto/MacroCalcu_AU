{
 "cells": [
  {
   "cell_type": "markdown",
   "metadata": {},
   "source": [
    "## Imports"
   ]
  },
  {
   "cell_type": "code",
   "execution_count": 3,
   "metadata": {},
   "outputs": [],
   "source": [
    "import pandas as pd\n",
    "import numpy as np"
   ]
  },
  {
   "cell_type": "markdown",
   "metadata": {},
   "source": [
    "## Data Input\n",
    "Source : https://www.foodstandards.gov.au/science-data/monitoringnutrients/afcd/australian-food-composition-database-download-excel-files"
   ]
  },
  {
   "cell_type": "code",
   "execution_count": 4,
   "metadata": {},
   "outputs": [],
   "source": [
    "data_path = \"data//source//\""
   ]
  },
  {
   "cell_type": "markdown",
   "metadata": {},
   "source": [
    "## Data Loading from Excel Files\n",
    "In this section, we are loading two different datasets obtained from the Australian Food Composition Database using the Pandas library. \n",
    "We are loading it using `pd.read_excel` located in a directory path specified by the variable `data_path`.\n",
    "\n",
    "1. **Food Dataset**: \n",
    "   - This dataset contains background information relating to each food.\n",
    "\n",
    "2. **Nutrient Dataset**: \n",
    "   - This dataset contains the nutrient data available for each food, with the nutrient data provided in two ways where tab 1: Per 100 g – all foods and all beverages are reported per 100 g edible portion and tab 2: Per 100 mL – beverages and other liquid foods only, reported per 100 mL edible portion."
   ]
  },
  {
   "cell_type": "code",
   "execution_count": 5,
   "metadata": {},
   "outputs": [],
   "source": [
    "food = pd.read_excel(data_path + 'food_file.xlsx')\n",
    "nutrient = pd.read_excel(data_path + 'nutrient_file.xlsx', sheet_name = 'All solids & liquids per 100g')"
   ]
  },
  {
   "cell_type": "markdown",
   "metadata": {},
   "source": [
    "## Data Preprocessing \n",
    "We check for missing values across all columns in the `food` and then the `nutrient` dataset. \n",
    "\n",
    "### Output Interpretation:\n",
    "From the output, we observe that most columns do not have missing values (`False`). However, columns like `Classification` and `Classification Name` do contain missing values (`True`). This insight will guide us in handling these missing values, which could involve imputing them, dropping them, or analyzing them further to understand the reasons behind their absence."
   ]
  },
  {
   "cell_type": "code",
   "execution_count": 6,
   "metadata": {},
   "outputs": [
    {
     "data": {
      "text/plain": [
       "Public Food Key        False\n",
       "Food Profile ID        False\n",
       "Derivation             False\n",
       "Food Name              False\n",
       "Food Description       False\n",
       "Sampling Details       False\n",
       "Nitrogen Factor        False\n",
       "Fat Factor             False\n",
       "Specific Gravity       False\n",
       "Analysed Portion       False\n",
       "Unanalysed Portion     False\n",
       "Classification          True\n",
       "Classification Name     True\n",
       "dtype: bool"
      ]
     },
     "execution_count": 6,
     "metadata": {},
     "output_type": "execute_result"
    }
   ],
   "source": [
    "food.isna().any()"
   ]
  },
  {
   "cell_type": "markdown",
   "metadata": {},
   "source": [
    "## Quantifying Missing Values in `Classification` and `Classification Name` columns\n",
    "This step helps in understanding the extent of missing data and informs subsequent data cleaning or imputation strategies.\n",
    "The output is printed to give a clear count of how many missing values are present in each of these columns.\n",
    "\n",
    "### Output Interpretation:\n",
    "- The printed output indicates that there is only 1 missing value in both the `Classification` and `Classification Name` columns.\n",
    "\n",
    "- **Matching Number of Missing Values**: The fact that both columns have exactly 1 missing value each suggests a possibility that the missing value in both columns comes from the same row. This could occur, for example, if a particular food item was not properly classified, resulting in missing entries in both related columns."
   ]
  },
  {
   "cell_type": "code",
   "execution_count": 7,
   "metadata": {},
   "outputs": [
    {
     "name": "stdout",
     "output_type": "stream",
     "text": [
      "Sum of missing values in 'classification' column: 1\n",
      "Sum of missing values in 'classification name' column: 1\n"
     ]
    }
   ],
   "source": [
    "missing_values_sum_classification = food['Classification'].isna().sum()\n",
    "missing_values_sum_classification_name = food['Classification Name'].isna().sum()\n",
    "\n",
    "print(\"Sum of missing values in 'classification' column:\", missing_values_sum_classification)\n",
    "print(\"Sum of missing values in 'classification name' column:\", missing_values_sum_classification_name)"
   ]
  },
  {
   "cell_type": "markdown",
   "metadata": {},
   "source": [
    "## Identifying Rows with Missing Values in the Food Dataset\n",
    "In this section, we focus on pinpointing the exact rows in the `food` dataset that contain missing values. \n",
    "\n",
    "### Output Interpretation:\n",
    "- The output shows `Index([1616], dtype='int64')`, indicating that row index 1616 in the pandas DataFrame contains missing values.\n",
    "- Note that the pandas index 1616 corresponds to row number 1618 in the Excel file since pandas indexing starts at 0, whereas Excel's row numbering starts at 1. In addition, Excel often has a header row which pandas considers as part of the data.\n",
    "- The row at index 1616, identified as having missing values, is actually just a repetition of the column headers, and can be safely removed from the dataset without losing any valuable data."
   ]
  },
  {
   "cell_type": "code",
   "execution_count": 8,
   "metadata": {},
   "outputs": [
    {
     "name": "stdout",
     "output_type": "stream",
     "text": [
      "Index([1616], dtype='int64')\n"
     ]
    }
   ],
   "source": [
    "nan_row_indices = food[food.isna().any(axis=1)].index\n",
    "print(nan_row_indices)"
   ]
  },
  {
   "cell_type": "markdown",
   "metadata": {},
   "source": [
    "## Removing Duplicate Header Row from the DataFrame\n",
    "- We drop the row to ensure the integrity and cleanliness of our dataset."
   ]
  },
  {
   "cell_type": "code",
   "execution_count": 9,
   "metadata": {},
   "outputs": [],
   "source": [
    "food = food.drop(1616)"
   ]
  },
  {
   "cell_type": "markdown",
   "metadata": {},
   "source": [
    "## Removing unnecessary columns for Macro Food Calculator Database\n",
    "We retain only the most relevant fields, such as the unique code Public Food Key, food name, and detailed description."
   ]
  },
  {
   "cell_type": "code",
   "execution_count": 10,
   "metadata": {},
   "outputs": [],
   "source": [
    "food.drop(['Derivation', 'Food Profile ID', 'Sampling Details', 'Specific Gravity', 'Analysed Portion', 'Unanalysed Portion', 'Nitrogen Factor', 'Fat Factor'], axis=1, inplace=True, errors = 'ignore')"
   ]
  },
  {
   "cell_type": "markdown",
   "metadata": {},
   "source": [
    "# Identifying Missing Values in `Nutrient` dataset\n",
    "## Output Interpretation\n",
    "- Columns such as `Classification`, `Serine (mg)`, `Threonine (mg)`, `Tyrosine (mg)`, and `Valine (mg)` show `True`, which tell us that these nutrients have missing data points for some food items."
   ]
  },
  {
   "cell_type": "code",
   "execution_count": 11,
   "metadata": {},
   "outputs": [
    {
     "data": {
      "text/plain": [
       "Public Food Key                                  False\n",
       "Classification                                    True\n",
       "Food Name                                        False\n",
       "Energy with dietary fibre, equated \\n(kJ)        False\n",
       "Energy, without dietary fibre, equated \\n(kJ)    False\n",
       "                                                 ...  \n",
       "Serine \\n(mg)                                     True\n",
       "Threonine \\n(mg)                                  True\n",
       "Tyrosine \\n(mg)                                   True\n",
       "Tryptophan \\n(mg)                                False\n",
       "Valine \\n(mg)                                     True\n",
       "Length: 293, dtype: bool"
      ]
     },
     "execution_count": 11,
     "metadata": {},
     "output_type": "execute_result"
    }
   ],
   "source": [
    "nutrient.isna().any()"
   ]
  },
  {
   "cell_type": "markdown",
   "metadata": {},
   "source": [
    "## Locating Rows with Missing 'Classification' in the Nutrient Dataset\n",
    "- The code below filters out rows where the `Classification` column is `NaN` and retrieve their indices.\n",
    "\n",
    "### Output Interpretation:\n",
    "- These indices correspond to rows 126 and 132 in the pandas DataFrame. \n",
    "- As we investigate the rows with missing data, we notice that "
   ]
  },
  {
   "cell_type": "code",
   "execution_count": 12,
   "metadata": {},
   "outputs": [
    {
     "name": "stdout",
     "output_type": "stream",
     "text": [
      "Index([126, 132], dtype='int64')\n"
     ]
    }
   ],
   "source": [
    "nan_indices = nutrient[nutrient['Classification'].isna()].index\n",
    "print(nan_indices) "
   ]
  },
  {
   "cell_type": "markdown",
   "metadata": {},
   "source": [
    "## Filling Missing 'Classification' Values in the Nutrient Dataset Using Data from the Food Dataset\n",
    "- First, we create `classification_map`, a Series from the `food` DataFrame. In this Series, 'Public Food Key' is set as the index, and 'Classification' is the value. This mapping provides a reference to look up the 'Classification' of each food item based on its unique key.\n",
    "- Next, we use this mapping to fill in missing 'Classification' values in the `nutrient` DataFrame. "
   ]
  },
  {
   "cell_type": "code",
   "execution_count": 13,
   "metadata": {},
   "outputs": [],
   "source": [
    "# Mapping Series from the 'food' DataFrame where 'Public Food Key' is the index and 'Classification' is the value\n",
    "classification_map = food.set_index('Public Food Key')['Classification']\n",
    "\n",
    "# Use the map to fill NaN values in the 'Classification' column of 'nutrient' DataFrame\n",
    "nutrient['Classification'] = nutrient['Classification'].fillna(nutrient['Public Food Key'].map(classification_map))"
   ]
  },
  {
   "cell_type": "markdown",
   "metadata": {},
   "source": [
    "## Removing unnecessary columns for Macro Food Calculator Database"
   ]
  },
  {
   "cell_type": "code",
   "execution_count": 14,
   "metadata": {},
   "outputs": [],
   "source": [
    "# Drop unncessary columns from the 'nutrient' df\n",
    "columns_to_keep = [\n",
    "    'Public Food Key', 'Classification', 'Food Name', \n",
    "    'Energy with dietary fibre, equated \\n(kJ)',\n",
    "    'Protein \\n(g)', 'Fat, total \\n(g)',\n",
    "    'Total dietary fibre \\n(g)', 'Total sugars (g)', \n",
    "    'Added sugars (g)', 'Free sugars \\n(g)', 'Starch \\n(g)',\n",
    "    'Available carbohydrate, with sugar alcohols \\n(g)',\n",
    "    'Caffeine \\n(mg)'\n",
    "]\n",
    "\n",
    "# Index the DataFrame with this list to keep only these columns\n",
    "nutrient = nutrient[columns_to_keep]"
   ]
  },
  {
   "cell_type": "markdown",
   "metadata": {},
   "source": [
    "## Dataframe Merging \n",
    "**Setting Index**:\n",
    "- We prepare `nutrient` and `food` DataFrames for merging by setting their 'Public Food Key' columns as indexes."
   ]
  },
  {
   "cell_type": "code",
   "execution_count": 15,
   "metadata": {},
   "outputs": [],
   "source": [
    "# Setting 'Public Food Key' as index for original dfs\n",
    "nutrient.set_index('Public Food Key', inplace=True)\n",
    "food.set_index('Public Food Key', inplace=True)"
   ]
  },
  {
   "cell_type": "markdown",
   "metadata": {},
   "source": [
    "## Checking for Column Consistency Across `nutrient` and `food` DataFrames\n",
    "\n",
    "**Identifying Common Keys**:\n",
    "  - Finding common indices from `Public Food Key` in both DataFrames using `intersection`. \n",
    "\n",
    "### Output Interpretation:\n",
    "- The output `False` for the 'Classification' column indicates discrepancies between the two datasets. This suggests that for some common food items, the classification differs between the `nutrient` and `food` DataFrames.\n"
   ]
  },
  {
   "cell_type": "code",
   "execution_count": 16,
   "metadata": {},
   "outputs": [
    {
     "name": "stdout",
     "output_type": "stream",
     "text": [
      "Food Name columns identical for common primary keys in both dataframes? True\n",
      "Classification columns identical for common primary keys in both dataframes? False\n"
     ]
    }
   ],
   "source": [
    "# Find the common keys in both dataframes\n",
    "common_keys = nutrient.index.intersection(food.index)\n",
    "\n",
    "# Iterate through each column to compare\n",
    "for column in ['Food Name', 'Classification']:\n",
    "    # Compare the columns for common keys and check if all matching\n",
    "    matching_columns = nutrient.loc[common_keys, column].equals(food.loc[common_keys, column])\n",
    "    print(f\"{column} columns identical for common primary keys in both dataframes?\", matching_columns)"
   ]
  },
  {
   "cell_type": "markdown",
   "metadata": {},
   "source": [
    "## Investigating Discrepancies in 'Classification' Column Across DataFrames\n",
    "Since the previous code identified a discrepancy in the 'Classification' column between the `nutrient` and `food` DataFrames, we further investigate to pinpoint the exact mismatches.\n",
    "\n",
    "### Output Interpretation:\n",
    "- We find a mismatch for the key `F009802`, indicating that the classification for this particular food item is different in the `nutrient` DataFrame compared to the `food` DataFrame."
   ]
  },
  {
   "cell_type": "code",
   "execution_count": 17,
   "metadata": {},
   "outputs": [
    {
     "name": "stdout",
     "output_type": "stream",
     "text": [
      "Mismatches in 'Classification' for keys: ['F009802']\n"
     ]
    }
   ],
   "source": [
    "# Find mismatches in the current column\n",
    "mismatch_mask = nutrient.loc[common_keys, 'Classification'] != food.loc[common_keys, 'Classification']\n",
    "mismatched_keys = mismatch_mask[mismatch_mask].index.tolist()\n",
    "\n",
    "# Print the keys where mismatches were found\n",
    "if mismatched_keys:  # If the list is not empty\n",
    "        print(f\"Mismatches in '{column}' for keys:\", mismatched_keys)\n",
    "else:\n",
    "        print(f\"No mismatches found in '{column}' column.\")"
   ]
  },
  {
   "cell_type": "markdown",
   "metadata": {},
   "source": [
    "## Resolving the Classification Discrepancy for Key 'F009802'\n",
    "\n",
    "**Accessing Classification Data**:\n",
    "  - We access the 'Classification' data for the key 'F009802' in both `food` and `nutrient` DataFrames using the `loc` method to directly compare the classification values assigned in each dataset.\n",
    " \n",
    "### Output Interpretation:\n",
    "- The output reveals that the classification codes for this particular food item are different in the two datasets, with `food` having a classification of `28202.0` and `nutrient` having `28301.0`."
   ]
  },
  {
   "cell_type": "code",
   "execution_count": 18,
   "metadata": {},
   "outputs": [
    {
     "name": "stdout",
     "output_type": "stream",
     "text": [
      "28202.0\n",
      "28301.0\n"
     ]
    }
   ],
   "source": [
    "# Accessing data by the index 'F009802'\n",
    "food_classification = food.loc['F009802', 'Classification']\n",
    "print(food_classification)\n",
    "\n",
    "nutrient_classification = nutrient.loc['F009802', 'Classification']\n",
    "print(nutrient_classification)"
   ]
  },
  {
   "cell_type": "markdown",
   "metadata": {},
   "source": [
    "## Updating Classification for Key 'F009802'\n",
    "We have chosen to update the classification in the `food` DataFrame to match that in the `nutrient` DataFrame.\n",
    "\n",
    "**Rationale for Choosing '28301.0'**:\n",
    "  - The key 'F009802' corresponds to a 'Bar, snack, with >35% nuts, added protein'. In the `nutrient` DataFrame, this item is classified as '28301.0', while in the `food` DataFrame, it is classified as '28202.0'.\n",
    "  - Upon closer examination, we found that another item, 'F009801' (Bar, snack, with >55% nuts), is consistently classified as '28202' in both dataframes. This consistency suggests that '28202' might represent a general category for nut-based snack bars.\n",
    "  - However, since 'F009802' includes added protein, which could differentiate it nutritionally and categorically, the classification '28301.0' in the `nutrient` DataFrame may more accurately reflect its unique characteristics. Therefore, we choose to align the `food` DataFrame with this classification.\n"
   ]
  },
  {
   "cell_type": "code",
   "execution_count": 19,
   "metadata": {},
   "outputs": [
    {
     "name": "stderr",
     "output_type": "stream",
     "text": [
      "/var/folders/ww/sdpjdv8n5bxg6ylcbh7qm0vc0000gn/T/ipykernel_73969/1849043427.py:2: FutureWarning: Setting an item of incompatible dtype is deprecated and will raise an error in a future version of pandas. Value '28301.0' has dtype incompatible with float64, please explicitly cast to a compatible dtype first.\n",
      "  food.loc['F009802', 'Classification'] = '28301.0'\n"
     ]
    }
   ],
   "source": [
    "# Updating the 'Classification' value for the row with 'Public Food Key' of 'F009802'\n",
    "food.loc['F009802', 'Classification'] = '28301.0'"
   ]
  },
  {
   "cell_type": "markdown",
   "metadata": {},
   "source": [
    "## Verifying the Alignment of 'Classification' Columns Across Both DataFrames\n",
    "We perform a final check to ensure alignment and consistency across the `food` and `nutrient` DataFrames.\n",
    "\n",
    "### Output Interpretation:\n",
    "- The output indicates that there are still some mismatches in the 'Classification' column between the food and nutrient DataFrames for certain common items."
   ]
  },
  {
   "cell_type": "code",
   "execution_count": 22,
   "metadata": {},
   "outputs": [
    {
     "name": "stdout",
     "output_type": "stream",
     "text": [
      "Do 'Classification' columns match for all common 'Public Food Key'? True\n"
     ]
    }
   ],
   "source": [
    "# Compare 'Classification' columns for common keys\n",
    "classification_match = (food.loc[common_keys, 'Classification'] == nutrient.loc[common_keys, 'Classification']).all()\n",
    "print(\"Do 'Classification' columns match for all common 'Public Food Key'?\", classification_match)"
   ]
  },
  {
   "cell_type": "markdown",
   "metadata": {},
   "source": [
    "## Converting 'Classification' Column to String Type for Consistency\n",
    "- We convert both columns as strings, eliminating data type mismatches.\n",
    "- If we run the code above once again, the mismatch in the `Clasffication` column will be resolved. "
   ]
  },
  {
   "cell_type": "code",
   "execution_count": 21,
   "metadata": {},
   "outputs": [],
   "source": [
    "nutrient['Classification'] = nutrient['Classification'].astype(str)\n",
    "food['Classification'] = food['Classification'].astype(str)"
   ]
  },
  {
   "cell_type": "markdown",
   "metadata": {},
   "source": [
    "## Creating the Final DataFrame\n",
    "\n",
    "**Merging DataFrames with Suffixes**:\n",
    "  - To avoid column name conflicts, we specify suffixes on columns with the same name. \n",
    "  - The merge is performed on the indices, as both DataFrames share 'Public Food Key' as their index. \n",
    "\n",
    "**Column Selection**:\n",
    "  - From the merged DataFrame, we select specific columns that are most relevant for our macro food calculator. \n",
    "\n",
    "**Resetting the Index**:\n",
    "  - To make 'Public Food Key' a column again (instead of an index), we reset the index of our final DataFrame."
   ]
  },
  {
   "cell_type": "code",
   "execution_count": 24,
   "metadata": {},
   "outputs": [
    {
     "name": "stderr",
     "output_type": "stream",
     "text": [
      "/var/folders/ww/sdpjdv8n5bxg6ylcbh7qm0vc0000gn/T/ipykernel_73969/2349254761.py:16: SettingWithCopyWarning: \n",
      "A value is trying to be set on a copy of a slice from a DataFrame\n",
      "\n",
      "See the caveats in the documentation: https://pandas.pydata.org/pandas-docs/stable/user_guide/indexing.html#returning-a-view-versus-a-copy\n",
      "  final_df.rename(columns={'index': 'Public Food Key'}, inplace=True)\n"
     ]
    }
   ],
   "source": [
    "# Merging the dataframes with specified suffixes to avoid errors with columns of the same name\n",
    "merged_df = food.merge(nutrient, left_index=True, right_index=True, suffixes=('_food', '_nutrient'))\n",
    "\n",
    "# Selecting specific columns to keep\n",
    "final_df = merged_df[[\n",
    "    'Food Name_food', 'Classification_food', 'Classification Name', \n",
    "    'Protein \\n(g)', 'Fat, total \\n(g)', \n",
    "    'Available carbohydrate, with sugar alcohols \\n(g)', \n",
    "    'Total dietary fibre \\n(g)', 'Total sugars (g)', \n",
    "    'Added sugars (g)', 'Free sugars \\n(g)', 'Starch \\n(g)', \n",
    "    'Caffeine \\n(mg)', 'Energy with dietary fibre, equated \\n(kJ)'\n",
    "]]\n",
    "\n",
    "# Resetting the index to turn 'Public Food Key' back to a column\n",
    "final_df.reset_index(inplace=True)\n",
    "final_df.rename(columns={'index': 'Public Food Key'}, inplace=True)"
   ]
  },
  {
   "cell_type": "markdown",
   "metadata": {},
   "source": [
    "## Adding Converted Energy Values (kJ to kCal) column to the Final DataFrame\n",
    "- We provide energy content both in kilojoules (kJ) and kilocalories (kCal), catering to diverse user preferences and standards.\n",
    "- This column is calculated by converting the energy values from kilojoules (kJ) to kilocalories (kCal). The conversion formula used is based on the principle that 1 kCal is approximately equal to 4.184 kJ."
   ]
  },
  {
   "cell_type": "code",
   "execution_count": 25,
   "metadata": {},
   "outputs": [
    {
     "name": "stderr",
     "output_type": "stream",
     "text": [
      "/var/folders/ww/sdpjdv8n5bxg6ylcbh7qm0vc0000gn/T/ipykernel_73969/1453410441.py:2: SettingWithCopyWarning: \n",
      "A value is trying to be set on a copy of a slice from a DataFrame.\n",
      "Try using .loc[row_indexer,col_indexer] = value instead\n",
      "\n",
      "See the caveats in the documentation: https://pandas.pydata.org/pandas-docs/stable/user_guide/indexing.html#returning-a-view-versus-a-copy\n",
      "  final_df['Energy with dietary fibre, equated \\n(kCal)'] = (final_df['Energy with dietary fibre, equated \\n(kJ)'] * 0.239005736).round(1)\n"
     ]
    }
   ],
   "source": [
    "# Adding a column 'Energy with dietary fibre, equated \\n(kCal)' to the DataFrame\n",
    "final_df['Energy with dietary fibre, equated \\n(kCal)'] = (final_df['Energy with dietary fibre, equated \\n(kJ)'] * 0.239005736).round(1)"
   ]
  },
  {
   "cell_type": "markdown",
   "metadata": {},
   "source": [
    "## Renaming Columns for Clarity and Consistency in the Final DataFrame\n",
    "- After merging the `food` and `nutrient` DataFrames, we had added suffixes to certain columns to avoid conflicts where columns in both dataframes had the same name. Now, we are streamlining `final_df` by renaming these columns for clarity."
   ]
  },
  {
   "cell_type": "code",
   "execution_count": 26,
   "metadata": {},
   "outputs": [
    {
     "name": "stderr",
     "output_type": "stream",
     "text": [
      "/var/folders/ww/sdpjdv8n5bxg6ylcbh7qm0vc0000gn/T/ipykernel_73969/2847570060.py:1: SettingWithCopyWarning: \n",
      "A value is trying to be set on a copy of a slice from a DataFrame\n",
      "\n",
      "See the caveats in the documentation: https://pandas.pydata.org/pandas-docs/stable/user_guide/indexing.html#returning-a-view-versus-a-copy\n",
      "  final_df.rename(columns={'Classification_food': 'Classification', 'Food Name_food': 'Food Name'}, inplace=True)\n"
     ]
    }
   ],
   "source": [
    "final_df.rename(columns={'Classification_food': 'Classification', 'Food Name_food': 'Food Name'}, inplace=True)"
   ]
  },
  {
   "cell_type": "markdown",
   "metadata": {},
   "source": [
    "## Categorizing Food Items in the Final DataFrame\n",
    "To enhance the usability of the final dataframe, we add another layer of categorization by mapping each specific 'Classification Name' to a broader category, simplifying and grouping the food items. \n",
    "\n",
    "- We investigate each unique 'Classification Name' from the dataframe. "
   ]
  },
  {
   "cell_type": "code",
   "execution_count": 27,
   "metadata": {},
   "outputs": [
    {
     "data": {
      "text/plain": [
       "array(['Herbs(dried) and spices', 'Salt', 'Stock cubes and seasonings',\n",
       "       'Chemical raising agents and cooking ingredients', 'Gelatine',\n",
       "       'Cereal flours and starches', 'Potato products', 'Essences',\n",
       "       'Yeast', 'Beers, > 3.5% alcohol',\n",
       "       'Beers, 1.15- 3.5% alcohol, reduced alcohol / light', 'Spirits',\n",
       "       'Cider',\n",
       "       'Wines, red (including sparkling varieties and rose styles)',\n",
       "       'Wines, white (including sparkling varieties)', 'Fortified wines',\n",
       "       'Unfortified dry beverage flavourings',\n",
       "       'Fortified dry beverage flavourings',\n",
       "       'Fortified beverage flavourings prepared with water or milk',\n",
       "       'Unfortified beverage flavourings prepared with water or milk',\n",
       "       'Dry coffee powder, caffeinated or decaffeinated',\n",
       "       'Coffee beverage, prepared with water',\n",
       "       'Coffee beverage, decaffeinated, prepared with water',\n",
       "       'Coffee beverage, prepared with milk or milk substitute',\n",
       "       'Cordial concentrate', 'Cordials, made from concentrate',\n",
       "       'Fruit drinks (ready to drink or made from concentrate)',\n",
       "       'Fruit juices, commercially prepared',\n",
       "       'Purchased packaged water including mineral water',\n",
       "       'Flavoured mineral waters', 'Soft drinks, cola',\n",
       "       'Soft drinks, cola, intense sweetened', 'Energy drinks',\n",
       "       'Soft drinks, non-cola',\n",
       "       'Soft drinks, non-cola, intense sweetened',\n",
       "       'Tea, regular, caffeinated, prepared with water',\n",
       "       'Tea, regular, decaffeinated, prepared with water or milk',\n",
       "       'Domestic water (including tap, tank/rain water)',\n",
       "       'Savoury biscuits, rice based (includes rice cakes)',\n",
       "       'Savoury biscuits, wheat based, plain, energy >1800 kJ per 100 g',\n",
       "       'Savoury biscuits, wheat based, plain, energy <=1800 kJ per 100 g',\n",
       "       'Sweet biscuits, plain or flavoured including short bread varieties',\n",
       "       'Sweet biscuits, chocolate-coated, chocolate or cream filled',\n",
       "       'Sweet biscuits, cream-filled',\n",
       "       'Breads, and bread rolls, white, mandatorily fortified',\n",
       "       'Breads, and bread rolls, white, not stated as to fortification',\n",
       "       'Flat breads (e.g. Pita bread), wheat based',\n",
       "       'Breads, and bread rolls, white, additional voluntary fortification',\n",
       "       'Savoury filled or topped breads and bread rolls',\n",
       "       'Breads, and bread rolls, wholemeal and brown, mandatorily fortified',\n",
       "       'Breads, and bread rolls, mixed grain, mandatorily fortified',\n",
       "       'Sweet breads, buns and scrolls, uniced, unfilled',\n",
       "       'Fried bread products and garlic breads',\n",
       "       'Breads, and bread rolls, gluten free',\n",
       "       'Breads, and bread rolls, rye, mandatorily fortified',\n",
       "       'Sweet breads, buns and scrolls, iced and/or filled', 'Crumpets',\n",
       "       'English-style muffins', 'Breakfast cereal beverages',\n",
       "       'Breakfast cereal, corn based',\n",
       "       'Breakfast cereal, corn based, fortified',\n",
       "       'Breakfast cereal, mixed grain, fortified, sugars <=20 g/100g',\n",
       "       'Breakfast cereal, mixed grain, with fruit and/or nuts, fortified',\n",
       "       'Breakfast cereal, mixed grain, fortified, sugars >20 g/100g',\n",
       "       'Breakfast cereal, mixed grain', 'Breakfast cereal, rice based',\n",
       "       'Breakfast cereal, rice based, fortified',\n",
       "       'Breakfast cereal, wheat based, with fruit and/or nuts, fortified, sugars <=25 g/100g',\n",
       "       'Breakfast cereal, wheat based',\n",
       "       'Breakfast cereal, wheat based, fortified, sugars <=20 g/100g',\n",
       "       'Breakfast cereal, mixed grain, with fruit and/or nuts',\n",
       "       'Cakes and cake mixes, other types',\n",
       "       'Slices, biscuit and cake-type', 'Cakes and cake mixes, chocolate',\n",
       "       'Cakes and cake mixes, sponge', 'Doughnuts',\n",
       "       'Muffins, cake type, and muffin mixes',\n",
       "       'Pancakes, crepes and dishes', 'Drop scones, pikelets',\n",
       "       'Cake-type desserts',\n",
       "       'Scones and rock cakes, plain or with added fruit or vegetables only',\n",
       "       'Grains (other than rice) and grain fractions',\n",
       "       'Porridge style, oat based', 'Seed products',\n",
       "       'Rice and rice grain fractions',\n",
       "       'Savoury rice-based dishes, saturated fat <=5 g/100 g',\n",
       "       'Legume and pulse products',\n",
       "       'Cereal flours and starches, fortified',\n",
       "       'Burgers, saturated fat >5 g/100 g',\n",
       "       'Burgers, saturated fat <=5 g/100 g',\n",
       "       'Sandwiches and filled rolls, saturated fat <=5 g/100 g',\n",
       "       'Pizza, saturated fat <=5 g/100 g',\n",
       "       'Pasta and noodles, not wheat based',\n",
       "       'Pasta and noodles, wheat based, other than instant noodles',\n",
       "       'Instant noodles and noodle products, wheat based',\n",
       "       'Savoury pasta/noodle and sauce dishes, saturated fat <=5 g/100 g',\n",
       "       'Pastry, plain/unfilled, all types',\n",
       "       'Savoury pastry products, pies, rolls and envelopes',\n",
       "       'Savoury pastry products, pies, rolls and envelopes, fried',\n",
       "       'Sweet pastry products, fruit and/or nut fillings',\n",
       "       'Sweet pastry products, egg or dairy based fillings',\n",
       "       'Italian and French-style dressings, full fat',\n",
       "       'Mayonnaise and cream-style dressings, full fat',\n",
       "       'Dry gravy mixes', 'Gravies (prepared)',\n",
       "       'Mayonnaise and cream-style dressings, reduced or non-fat',\n",
       "       'Savoury sauces, not tomato based, commercial', 'Savoury pastes',\n",
       "       'Fish and seafood products',\n",
       "       'Savoury sauces, commercial, simmer style',\n",
       "       'Beef dishes with gravy, sauce or vegetables',\n",
       "       'Savoury sauces, tomato based, commercial',\n",
       "       'Savoury sauces, dairy based, homemade', 'Vinegar',\n",
       "       'Peanut products', 'Yeast extracts',\n",
       "       'Cheese, hard cheese ripened styles',\n",
       "       'Cheese, camembert, brie and other surface ripened cheeses',\n",
       "       'Cheese, hard cheese ripened styles, reduced fat',\n",
       "       'Cheese, processed', 'Cheese, processed, reduced fat',\n",
       "       'Cheese, unripened styles, including cream and cottage cheese, regular fat',\n",
       "       'Cream, regular and increased fat',\n",
       "       'Cream substitute, artificial cream', 'Cream, sour',\n",
       "       'Cream, sour, reduced fat',\n",
       "       'Ice cream, tub varieties, fat content >10 g/100 g',\n",
       "       'Ice cream, individual bar, stick and cone varieties, fat content 4 - 10 g/100 g',\n",
       "       'Water ice confection, gelato, sorbet',\n",
       "       'Milk, cow, fluid, regular whole, full fat',\n",
       "       'Milk, cow, fluid, regular whole, full fat, fortified',\n",
       "       'Milk, cow, fluid, reduced fat, <2 g/100g',\n",
       "       'Milk, cow, fluid, reduced fat, <2 g/100g, fortified',\n",
       "       'Milk, cow, fluid, skim, non-fat',\n",
       "       'Milk, evaporated or condensed, undiluted',\n",
       "       'Milk, powder, cow, dry', 'Human breast milk',\n",
       "       'Custard, fat content <4 g/100 g',\n",
       "       'Dairy desserts, smooth or gelatin-based dairy desserts',\n",
       "       'Yoghurt, natural, regular fat and high fat (>4 g/100g fat)',\n",
       "       'Yoghurt, flavoured or added fruit, full fat',\n",
       "       'Yoghurt, flavoured or added fruit, low fat or skim, sugar sweetened',\n",
       "       'Cereal- or nut-based milk substitute',\n",
       "       'Soy-based beverage, plain',\n",
       "       'Soy-based beverage, plain, fortified',\n",
       "       'Soy-based beverage, plain, reduced fat, fortified',\n",
       "       'Meat substitutes', 'Soy-based yoghurts, regular fat',\n",
       "       'Soy-based yoghurts, reduced fat', 'Butter', 'Butter products',\n",
       "       'Dairy blend, regular, fat content >= 65g/100g',\n",
       "       'Polyunsaturated margarine spreads, fat content >= 65g/100g',\n",
       "       'Margarine spreads with added phytosterols',\n",
       "       'Monounsaturated margarine spreads, fat content >= 65 g/100g',\n",
       "       'Monounsaturated margarine spreads,fat content <65 g/100g',\n",
       "       'Monounsaturated oils', 'Polyunsaturated oils',\n",
       "       'Vegetable-based solid fats', 'Animal-based solid fats',\n",
       "       'Eggs, chicken', 'Eggs, chicken, modified (e.g. Omega-3, folate)',\n",
       "       'Egg dishes, savoury', 'Apples',\n",
       "       'Other dried fruit including mixed dried fruit',\n",
       "       'Other stone fruit, commercially sterile', 'Bananas',\n",
       "       'Berry fruit', 'Other stone fruit',\n",
       "       'Mixtures of two or more groups of fruit, commercially sterile',\n",
       "       'Other citrus fruit', 'Dried vine fruit',\n",
       "       'Other tropical and subtropical fruit, inedible peel',\n",
       "       'Other tropical and subtropical fruit, edible peel', 'Other fruit',\n",
       "       'Lemons and limes', 'Preserved fruit', 'Other pome fruit',\n",
       "       'Citrus fruit, commercially sterile',\n",
       "       'Tropical and subtropical fruit, commercially sterile', 'Oranges',\n",
       "       'Peaches and nectarines',\n",
       "       'Peaches and nectarines, commercially sterile', 'Pears',\n",
       "       'Pears, commercially sterile', 'Pineapples',\n",
       "       'Berry fruit, commercially sterile', 'Beans',\n",
       "       'Mature legumes and pulses',\n",
       "       'Mature legumes and pulses, commercially sterile',\n",
       "       'Peas and edible-podded peas', 'Beef', 'Veal', 'Lamb and mutton',\n",
       "       'Other mammalian game', 'Pork', 'Chicken',\n",
       "       'Poultry crumbed, battered, meatloaf or patty type with cereal and/or vegetables',\n",
       "       'Other poultry', 'Feathered game', 'Kangaroo', 'Liver', 'Bacon',\n",
       "       'Processed meat, commercially sterile (includes canned meats)',\n",
       "       'Processed delicatessen meat, poultry',\n",
       "       'Frankfurts and saveloys, saturated fat content >5 g/100g', 'Ham',\n",
       "       'Sausage, saturated fat content >5 g/100g',\n",
       "       'Sausages, frankfurts and saveloys, saturated fat content <=5 g/100g',\n",
       "       'Fermented, comminuted meats (e.g. Salami)',\n",
       "       'Coconut and coconut products',\n",
       "       'Other nuts and nut products and dishes', 'Peanuts', 'Seeds',\n",
       "       'Fin fish, fresh, frozen', 'Fin fish, battered or crumbed', 'Eel',\n",
       "       'Molluscs, fresh, frozen', 'Crustacea, fresh, frozen',\n",
       "       'Packed fin fish', 'Smoked fish',\n",
       "       'Muesli and cereal style bars, added coatings or confectionery',\n",
       "       'Muesli bar, with fruit or fruit paste filling', 'Corn chips',\n",
       "       'Extruded snacks', 'Popcorn', 'Potato crisps',\n",
       "       'Dry soup mix containing meat, poultry or seafood',\n",
       "       'Soup containing meat, poultry or seafood',\n",
       "       'Dry soup mix, vegetable only',\n",
       "       'Chocolate-based confectionery with nut fillings or additions',\n",
       "       'Chocolate-based confectionery with other fillings or additions',\n",
       "       'Chocolate (plain, unfilled varieties)',\n",
       "       'Fruit-based pickles, chutneys and relishes',\n",
       "       'Jams and conserves, sugar sweetened',\n",
       "       'Sweet spreads or sauces, chocolate/coffee flavoured',\n",
       "       'Honey and sugar syrups', 'Sugar',\n",
       "       'Lollies and other confectionery, sugar sweetened',\n",
       "       'Sugar-based desserts', 'Stalk vegetables',\n",
       "       'Other root vegetables', 'Other fruiting vegetables',\n",
       "       'Herbs, fresh', 'Cabbage and similar brassica vegetables',\n",
       "       'Broccoli, broccolini and cauliflower', 'Carrots', 'Sweetcorn',\n",
       "       'Leaf vegetables', 'Other vegetables', 'Onion, leek and garlic',\n",
       "       'Vegetable-based pickles, chutneys and relishes',\n",
       "       'Mixtures of two or more vegetables', 'Mushrooms', 'Potatoes',\n",
       "       'Potato mixed dishes', 'Pumpkin', 'Seaweeds', 'Sprouts',\n",
       "       'Squash and zucchini', 'Tomato', 'Tomato products',\n",
       "       'Fruit bar and fruit-based confectionery',\n",
       "       'Muesli and cereal style bars, with fruit and/or nuts',\n",
       "       'Muesli and cereal style bars, no fruit',\n",
       "       'Nut and seed based confectionery', 'Savoury biscuits, corn based',\n",
       "       'Savoury biscuits, rye based', 'Savoury biscuits',\n",
       "       'Sweet biscuits, plain with fruit or nuts',\n",
       "       'Sweet biscuits, chocolate-coated, chocolate chip',\n",
       "       'Cheese substitute', 'Chocolate and chocolate-based confectionery',\n",
       "       'Dry or concentrate coffee-based mixes',\n",
       "       'Coffee-based mixes, beverage', 'Reptiles', 'Legume based dips',\n",
       "       'Poultry and feathered game', 'Wild harvested mammalian meat',\n",
       "       'Other alcoholic beverages',\n",
       "       'Milk, coffee/chocolate flavoured and milk-based drinks, reduced fat',\n",
       "       'Other snacks', 'Sport and protein, dry powders',\n",
       "       'Sport and protein prepared beverages',\n",
       "       'Wild harvested vegetables', 'Dairy & meat substitutes',\n",
       "       'Yoghurt, flavoured or added fruit and/or cereal, high fat (>4 g/100g fat)',\n",
       "       'Yoghurt, flavoured or added fruit, low fat or skim, intense sweetened',\n",
       "       'Yoghurt, flavoured or added fruit, reduced fat'], dtype=object)"
      ]
     },
     "execution_count": 27,
     "metadata": {},
     "output_type": "execute_result"
    }
   ],
   "source": [
    "# unique values in Classification Name\n",
    "final_df['Classification Name'].unique()"
   ]
  },
  {
   "cell_type": "markdown",
   "metadata": {},
   "source": [
    "**Creating a Category Mapping**:\n",
    "  - A dictionary named `category_mapping` is created, where each key represents a specific 'Classification Name' from our dataset, and each value corresponds to a broader category.\n",
    "  - Note that this categorization into broader categories is based on manual curation and domain knowledge."
   ]
  },
  {
   "cell_type": "code",
   "execution_count": 28,
   "metadata": {},
   "outputs": [],
   "source": [
    "# Creating a dictionary where keys are the specific 'Classification Names' and values are the broad categories\n",
    "category_mapping = {\n",
    "    # Spices and Cooking Ingredients\n",
    "    'Herbs(dried) and spices': 'Spices and Cooking Ingredients',\n",
    "    'Salt': 'Spices and Cooking Ingredients',\n",
    "    'Stock cubes and seasonings': 'Spices and Cooking Ingredients',\n",
    "    'Chemical raising agents and cooking ingredients': 'Spices and Cooking Ingredients',\n",
    "    'Gelatine': 'Spices and Cooking Ingredients',\n",
    "    'Cereal flours and starches': 'Spices and Cooking Ingredients',\n",
    "    'Cereal flours and starches, fortified': 'Spices and Cooking Ingredients',\n",
    "    'Essences': 'Spices and Cooking Ingredients',\n",
    "    'Yeast': 'Spices and Cooking Ingredients',\n",
    "    'Sugar': 'Spices and Cooking Ingredients',\n",
    "    'Herbs, fresh': 'Spices and Cooking Ingredients',\n",
    "\n",
    "    # Cakes and Cake Mixes\n",
    "    'Cakes and cake mixes, other types': 'Cakes and Cake Mixes',\n",
    "    'Slices, biscuit and cake-type': 'Cakes and Cake Mixes',\n",
    "    'Cakes and cake mixes, chocolate': 'Cakes and Cake Mixes',\n",
    "    'Cakes and cake mixes, sponge': 'Cakes and Cake Mixes',\n",
    "    'Muffins, cake type, and muffin mixes': 'Cakes and Cake Mixes',\n",
    "    'Pancakes, crepes and dishes': 'Cakes and Cake Mixes',\n",
    "    'Drop scones, pikelets': 'Cakes and Cake Mixes',\n",
    "    'Cake-type desserts': 'Cakes and Cake Mixes',\n",
    "    'Scones and rock cakes, plain or with added fruit or vegetables only': 'Cakes and Cake Mixes',\n",
    "\n",
    "    # Beverages\n",
    "    'Beers, > 3.5% alcohol': 'Beverages',\n",
    "    'Beers, 1.15- 3.5% alcohol, reduced alcohol / light': 'Beverages',\n",
    "    'Spirits': 'Beverages',\n",
    "    'Cider': 'Beverages',\n",
    "    'Wines, red (including sparkling varieties and rose styles)': 'Beverages',\n",
    "    'Wines, white (including sparkling varieties)': 'Beverages',\n",
    "    'Fortified wines': 'Beverages',\n",
    "    'Unfortified dry beverage flavourings': 'Beverages',\n",
    "    'Fortified dry beverage flavourings': 'Beverages',\n",
    "    'Fortified beverage flavourings prepared with water or milk': 'Beverages',\n",
    "    'Unfortified beverage flavourings prepared with water or milk': 'Beverages',\n",
    "    'Coffee beverage, prepared with water': 'Beverages',\n",
    "    'Coffee beverage, decaffeinated, prepared with water': 'Beverages',\n",
    "    'Coffee beverage, prepared with milk or milk substitute': 'Beverages',\n",
    "    'Cordial concentrate': 'Beverages',\n",
    "    'Cordials, made from concentrate': 'Beverages',\n",
    "    'Fruit drinks (ready to drink or made from concentrate)': 'Beverages',\n",
    "    'Fruit juices, commercially prepared': 'Beverages',\n",
    "    'Purchased packaged water including mineral water': 'Beverages',\n",
    "    'Flavoured mineral waters': 'Beverages',\n",
    "    'Soft drinks, cola': 'Beverages',\n",
    "    'Soft drinks, cola, intense sweetened': 'Beverages',\n",
    "    'Energy drinks': 'Beverages',\n",
    "    'Soft drinks, non-cola': 'Beverages',\n",
    "    'Soft drinks, non-cola, intense sweetened': 'Beverages',\n",
    "    'Tea, regular, caffeinated, prepared with water': 'Beverages',\n",
    "    'Tea, regular, decaffeinated, prepared with water or milk': 'Beverages',\n",
    "    'Domestic water (including tap, tank/rain water)': 'Beverages',\n",
    "    'Coffee-based mixes, beverage': 'Beverages',\n",
    "    'Other alcoholic beverages': 'Beverages',\n",
    "    'Milk, coffee/chocolate flavoured and milk-based drinks, reduced fat': 'Beverages',\n",
    "    'Sport and protein prepared beverages': 'Beverages',\n",
    "\n",
    "    # Savoury Biscuits and Crackers \n",
    "    'Savoury biscuits, rice based (includes rice cakes)': 'Savoury Biscuits and Crackers',\n",
    "    'Savoury biscuits, wheat based, plain, energy >1800 kJ per 100 g': 'Savoury Biscuits and Crackers',\n",
    "    'Savoury biscuits, wheat based, plain, energy <=1800 kJ per 100 g': 'Savoury Biscuits and Crackers',\n",
    "    'Savoury biscuits, corn based': 'Savoury Biscuits and Crackers',\n",
    "    'Savoury biscuits, rye based': 'Savoury Biscuits and Crackers',\n",
    "    'Savoury biscuits': 'Savoury Biscuits and Crackers',\n",
    "\n",
    "     # Sweet Biscuits and Cookies\n",
    "    'Sweet biscuits, plain or flavoured including short bread varieties': 'Sweet Biscuits and Cookies',\n",
    "    'Sweet biscuits, chocolate-coated, chocolate or cream filled': 'Sweet Biscuits and Cookies',\n",
    "    'Sweet biscuits, cream-filled': 'Sweet Biscuits and Cookies',\n",
    "    'Sweet biscuits, plain with fruit or nuts': 'Sweet Biscuits and Cookies',\n",
    "    'Sweet biscuits, chocolate-coated, chocolate chip': 'Sweet Biscuits and Cookies',\n",
    "\n",
    "# Bread\n",
    "    'Breads, and bread rolls, white, mandatorily fortified': 'Bread',\n",
    "    'Breads, and bread rolls, white, not stated as to fortification': 'Bread',\n",
    "    'Flat breads (e.g. Pita bread), wheat based': 'Bread',\n",
    "    'Breads, and bread rolls, white, additional voluntary fortification': 'Bread',\n",
    "    'Savoury filled or topped breads and bread rolls': 'Bread',\n",
    "    'Breads, and bread rolls, wholemeal and brown, mandatorily fortified': 'Bread',\n",
    "    'Breads, and bread rolls, mixed grain, mandatorily fortified': 'Bread',\n",
    "    'Sweet breads, buns and scrolls, uniced, unfilled': 'Bread',\n",
    "    'Fried bread products and garlic breads': 'Bread',\n",
    "    'Breads, and bread rolls, gluten free': 'Bread',\n",
    "    'Breads, and bread rolls, rye, mandatorily fortified': 'Bread',\n",
    "    'Sweet breads, buns and scrolls, iced and/or filled': 'Bread',\n",
    "    'Crumpets': 'Bread',\n",
    "    'English-style muffins': 'Bread',\n",
    "\n",
    "    # Quick Breakfasts\n",
    "    'Muesli and cereal style bars, added coatings or confectionery': 'Quick Breakfasts',\n",
    "    'Muesli bar, with fruit or fruit paste filling': 'Quick Breakfasts',\n",
    "    'Breakfast cereal beverages': 'Quick Breakfasts',\n",
    "    'Breakfast cereal, corn based': 'Quick Breakfasts',\n",
    "    'Breakfast cereal, corn based, fortified': 'Quick Breakfasts',\n",
    "    'Breakfast cereal, mixed grain, fortified, sugars <=20 g/100g': 'Quick Breakfasts',\n",
    "    'Breakfast cereal, mixed grain, with fruit and/or nuts, fortified': 'Quick Breakfasts',\n",
    "    'Breakfast cereal, mixed grain, fortified, sugars >20 g/100g': 'Quick Breakfasts',\n",
    "    'Breakfast cereal, mixed grain': 'Quick Breakfasts',\n",
    "    'Breakfast cereal, rice based': 'Quick Breakfasts',\n",
    "    'Breakfast cereal, rice based, fortified': 'Quick Breakfasts',\n",
    "    'Breakfast cereal, wheat based, with fruit and/or nuts, fortified, sugars <=25 g/100g': 'Quick Breakfasts',\n",
    "    'Breakfast cereal, wheat based': 'Quick Breakfasts',\n",
    "    'Breakfast cereal, wheat based, fortified, sugars <=20 g/100g': 'Quick Breakfasts',\n",
    "    'Breakfast cereal, mixed grain, with fruit and/or nuts': 'Quick Breakfasts',\n",
    "    'Muesli and cereal style bars, with fruit and/or nuts': 'Quick Breakfasts',\n",
    "    'Muesli and cereal style bars, no fruit': 'Quick Breakfasts',\n",
    "\n",
    "    # Pastries\n",
    "    'Pastry, plain/unfilled, all types': 'Pastries',\n",
    "    'Savoury pastry products, pies, rolls and envelopes': 'Pastries',\n",
    "    'Savoury pastry products, pies, rolls and envelopes, fried': 'Pastries',\n",
    "    'Sweet pastry products, fruit and/or nut fillings': 'Pastries',\n",
    "    'Sweet pastry products, egg or dairy based fillings': 'Pastries',\n",
    "\n",
    "    # Rice, Grains, Nuts and Seeds\n",
    "    'Grains (other than rice) and grain fractions': 'Rice, Grains, Nuts and Seeds',\n",
    "    'Porridge style, oat based': 'Rice, Grains, Nuts and Seeds', \n",
    "    'Seed products': 'Rice, Grains, Nuts and Seeds',\n",
    "    'Rice and rice grain fractions': 'Rice, Grains, Nuts and Seeds',\n",
    "    'Other nuts and nut products and dishes': 'Rice, Grains, Nuts and Seeds',\n",
    "    'Peanuts': 'Rice, Grains, Nuts and Seeds',\n",
    "    'Seeds': 'Rice, Grains, Nuts and Seeds',\n",
    "\n",
    "    # Pasta and Noodles\n",
    "    'Pasta and noodles, not wheat based': 'Pasta and Noodles',\n",
    "    'Pasta and noodles, wheat based, other than instant noodles': 'Pasta and Noodles',\n",
    "    'Instant noodles and noodle products, wheat based': 'Pasta and Noodles',\n",
    "    'Savoury pasta/noodle and sauce dishes, saturated fat <=5 g/100 g': 'Pasta and Noodles',\n",
    "    'Beef dishes with gravy, sauce or vegetables': 'Pasta and Noodles',\n",
    "\n",
    "    # Sauce, Dressing and Condiments\n",
    "    'Italian and French-style dressings, full fat': 'Sauce, Dressing and Condiments',\n",
    "    'Mayonnaise and cream-style dressings, full fat': 'Sauce, Dressing and Condiments',\n",
    "    'Dry gravy mixes': 'Sauce, Dressing and Condiments',\n",
    "    'Gravies (prepared)': 'Sauce, Dressing and Condiments',\n",
    "    'Mayonnaise and cream-style dressings, reduced or non-fat': 'Sauce, Dressing and Condiments',\n",
    "    'Savoury sauces, not tomato based, commercial': 'Sauce, Dressing and Condiments',\n",
    "    'Savoury pastes': 'Sauce, Dressing and Condiments',\n",
    "    'Savoury sauces, commercial, simmer style': 'Sauce, Dressing and Condiments',\n",
    "    'Savoury sauces, tomato based, commercial': 'Sauce, Dressing and Condiments',\n",
    "    'Savoury sauces, dairy based, homemade': 'Sauce, Dressing and Condiments',\n",
    "    'Vinegar': 'Sauce, Dressing and Condiments',\n",
    "    'Fruit-based pickles, chutneys and relishes': 'Sauce, Dressing and Condiments',\n",
    "    'Vegetable-based pickles, chutneys and relishes': 'Sauce, Dressing and Condiments',\n",
    "\n",
    "    # Legumes and Pulses\n",
    "    'Legume and pulse products': 'Legumes and Pulses',\n",
    "    'Beans': 'Legumes and Pulses',\n",
    "    'Mature legumes and pulses': 'Legumes and Pulses',\n",
    "    'Mature legumes and pulses, commercially sterile': 'Legumes and Pulses',\n",
    "    'Peas and edible-podded peas': 'Legumes and Pulses',\n",
    "\n",
    "    # Fish and Seafood\n",
    "    'Fish and seafood products': 'Fish and Seafood',\n",
    "    'Fin fish, fresh, frozen': 'Fish and Seafood', \n",
    "    'Fin fish, battered or crumbed': 'Fish and Seafood', \n",
    "    'Eel': 'Fish and Seafood',\n",
    "    'Molluscs, fresh, frozen': 'Fish and Seafood', \n",
    "    'Crustacea, fresh, frozen': 'Fish and Seafood',\n",
    "    'Packed fin fish': 'Fish and Seafood',\n",
    "    'Smoked fish': 'Fish and Seafood',\n",
    "\n",
    "    # Meat and Meat Products\n",
    "    'Meat substitutes': 'Meat and Meat Products', \n",
    "    'Beef': 'Meat and Meat Products', \n",
    "    'Veal': 'Meat and Meat Products', \n",
    "    'Lamb and mutton': 'Meat and Meat Products',\n",
    "    'Other mammalian game': 'Meat and Meat Products', \n",
    "    'Pork': 'Meat and Meat Products',\n",
    "    'Kangaroo': 'Meat and Meat Products', \n",
    "    'Liver': 'Meat and Meat Products', \n",
    "    'Bacon': 'Meat and Meat Products',\n",
    "    'Processed meat, commercially sterile (includes canned meats)': 'Meat and Meat Products',\n",
    "    'Frankfurts and saveloys, saturated fat content >5 g/100g': 'Meat and Meat Products', \n",
    "    'Ham': 'Meat and Meat Products',\n",
    "    'Sausage, saturated fat content >5 g/100g': 'Meat and Meat Products',\n",
    "    'Sausages, frankfurts and saveloys, saturated fat content <=5 g/100g': 'Meat and Meat Products',\n",
    "    'Fermented, comminuted meats (e.g. Salami):': 'Meat and Meat Products',\n",
    "    'Reptiles': 'Meat and Meat Products',\n",
    "    'Wild harvested mammalian meat': 'Meat and Meat Products',\n",
    "    'Burgers, saturated fat >5 g/100 g': 'Meat and Meat Products',\n",
    "    'Burgers, saturated fat <=5 g/100 g': 'Meat and Meat Products',\n",
    "    'Fermented, comminuted meats (e.g. Salami)': 'Meat and Meat Products',\n",
    "\n",
    "    #Poultry and Poultry Products\n",
    "    'Chicken': 'Poultry and Poultry Products',\n",
    "    'Poultry crumbed, battered, meatloaf or patty type with cereal and/or vegetables': 'Poultry and Poultry Products',\n",
    "    'Other poultry': 'Poultry and Poultry Products',\n",
    "    'Feathered game': 'Poultry and Poultry Products',\n",
    "    'Processed delicatessen meat, poultry': 'Poultry and Poultry Products',\n",
    "    'Poultry and feathered game': 'Poultry and Poultry Products',\n",
    "\n",
    "    # Spreads and Dips\n",
    "    'Peanut products': 'Spreads and Dips', \n",
    "    'Yeast extracts': 'Spreads and Dips',\n",
    "    'Polyunsaturated margarine spreads, fat content >= 65g/100g': 'Spreads and Dips',\n",
    "    'Margarine spreads with added phytosterols': 'Spreads and Dips',\n",
    "    'Monounsaturated margarine spreads, fat content >= 65 g/100g': 'Spreads and Dips',\n",
    "    'Monounsaturated margarine spreads,fat content <65 g/100g': 'Spreads and Dips',\n",
    "    'Jams and conserves, sugar sweetened': 'Spreads and Dips',\n",
    "    'Sweet spreads or sauces, chocolate/coffee flavoured': 'Spreads and Dips',\n",
    "    'Honey and sugar syrups': 'Spreads and Dips',\n",
    "    'Legume based dips': 'Spreads and Dips',\n",
    "\n",
    "    # Dairy\n",
    "    'Cheese, hard cheese ripened styles': 'Dairy',\n",
    "    'Cheese, camembert, brie and other surface ripened cheeses': 'Dairy',\n",
    "    'Cheese, hard cheese ripened styles, reduced fat': 'Dairy',\n",
    "    'Cheese, processed': 'Dairy', \n",
    "    'Cheese, processed, reduced fat': 'Dairy',\n",
    "    'Cheese, unripened styles, including cream and cottage cheese, regular fat': 'Dairy',\n",
    "    'Cream, regular and increased fat': 'Dairy',\n",
    "    'Cream substitute, artificial cream': 'Dairy', \n",
    "    'Cream, sour': 'Dairy',\n",
    "    'Cream, sour, reduced fat': 'Dairy',\n",
    "    'Ice cream, tub varieties, fat content >10 g/100 g': 'Dairy',\n",
    "    'Ice cream, individual bar, stick and cone varieties, fat content 4 - 10 g/100 g': 'Dairy',\n",
    "    'Water ice confection, gelato, sorbet': 'Dairy',\n",
    "    'Milk, cow, fluid, regular whole, full fat': 'Dairy',\n",
    "    'Milk, cow, fluid, regular whole, full fat, fortified': 'Dairy',\n",
    "    'Milk, cow, fluid, reduced fat, <2 g/100g': 'Dairy',\n",
    "    'Milk, cow, fluid, reduced fat, <2 g/100g, fortified': 'Dairy',\n",
    "    'Milk, cow, fluid, skim, non-fat': 'Dairy',\n",
    "    'Milk, evaporated or condensed, undiluted': 'Dairy',\n",
    "    'Milk, powder, cow, dry': 'Dairy', \n",
    "    'Human breast milk': 'Dairy',\n",
    "    'Custard, fat content <4 g/100 g': 'Dairy',\n",
    "    'Dairy desserts, smooth or gelatin-based dairy desserts': 'Dairy',\n",
    "    'Yoghurt, natural, regular fat and high fat (>4 g/100g fat)': 'Dairy',\n",
    "    'Yoghurt, flavoured or added fruit, full fat': 'Dairy',\n",
    "    'Yoghurt, flavoured or added fruit, low fat or skim, sugar sweetened': 'Dairy',\n",
    "    'Butter': 'Dairy', \n",
    "    'Butter products': 'Dairy',\n",
    "    'Dairy blend, regular, fat content >= 65g/100g': 'Dairy',\n",
    "    'Yoghurt, flavoured or added fruit and/or cereal, high fat (>4 g/100g fat)': 'Dairy',\n",
    "    'Yoghurt, flavoured or added fruit, low fat or skim, intense sweetened': 'Dairy',\n",
    "    'Yoghurt, flavoured or added fruit, reduced fat': 'Dairy',\n",
    "\n",
    "    # Dairy Alternatives\n",
    "    'Cereal- or nut-based milk substitute': 'Dairy Alternatives',\n",
    "    'Soy-based beverage, plain': 'Dairy Alternatives',\n",
    "    'Soy-based beverage, plain, fortified': 'Dairy Alternatives',\n",
    "    'Soy-based beverage, plain, reduced fat, fortified': 'Dairy Alternatives',\n",
    "    'Soy-based yoghurts, regular fat': 'Dairy Alternatives',\n",
    "    'Soy-based yoghurts, reduced fat': 'Dairy Alternatives',\n",
    "    'Cheese substitute': 'Dairy Alternatives',\n",
    "    'Dairy & meat substitutes': 'Dairy Alternatives',\n",
    "\n",
    "     # Fats and Oils\n",
    "    'Monounsaturated oils': 'Fats and Oils', \n",
    "    'Polyunsaturated oils': 'Fats and Oils',\n",
    "    'Vegetable-based solid fats': 'Fats and Oils', \n",
    "    'Animal-based solid fats': 'Fats and Oils',\n",
    "\n",
    "    # Egg Products \n",
    "    'Eggs, chicken': 'Egg Products', \n",
    "    'Eggs, chicken, modified (e.g. Omega-3, folate)': 'Egg Products',\n",
    "    'Egg dishes, savoury': 'Egg Products',\n",
    "\n",
    "    # Fruits and Vegetables\n",
    "    'Apples': 'Fruits and Vegetables',\n",
    "    'Other dried fruit including mixed dried fruit': 'Fruits and Vegetables',\n",
    "    'Other stone fruit, commercially sterile': 'Fruits and Vegetables', \n",
    "    'Bananas': 'Fruits and Vegetables',\n",
    "    'Berry fruit': 'Fruits and Vegetables', \n",
    "    'Other stone fruit': 'Fruits and Vegetables',\n",
    "    'Mixtures of two or more groups of fruit, commercially sterile': 'Fruits and Vegetables',\n",
    "    'Other citrus fruit': 'Fruits and Vegetables', \n",
    "    'Dried vine fruit': 'Fruits and Vegetables',\n",
    "    'Other tropical and subtropical fruit, inedible peel': 'Fruits and Vegetables',\n",
    "    'Other tropical and subtropical fruit, edible peel': 'Fruits and Vegetables', \n",
    "    'Other fruit': 'Fruits and Vegetables',\n",
    "    'Lemons and limes': 'Fruits and Vegetables', \n",
    "    'Preserved fruit': 'Fruits and Vegetables', \n",
    "    'Other pome fruit': 'Fruits and Vegetables',\n",
    "    'Citrus fruit, commercially sterile': 'Fruits and Vegetables',\n",
    "    'Tropical and subtropical fruit, commercially sterile': 'Fruits and Vegetables', \n",
    "    'Oranges': 'Fruits and Vegetables',\n",
    "    'Peaches and nectarines': 'Fruits and Vegetables',\n",
    "    'Peaches and nectarines, commercially sterile': 'Fruits and Vegetables', \n",
    "    'Pears': 'Fruits and Vegetables',\n",
    "    'Pears, commercially sterile': 'Fruits and Vegetables', \n",
    "    'Pineapples': 'Fruits and Vegetables',\n",
    "    'Berry fruit, commercially sterile': 'Fruits and Vegetables',\n",
    "    'Coconut and coconut products': 'Fruits and Vegetables',\n",
    "    'Stalk vegetables': 'Fruits and Vegetables',\n",
    "    'Other root vegetables': 'Fruits and Vegetables', \n",
    "    'Other fruiting vegetables': 'Fruits and Vegetables',\n",
    "    'Cabbage and similar brassica vegetables': 'Fruits and Vegetables',\n",
    "    'Broccoli, broccolini and cauliflower': 'Fruits and Vegetables', \n",
    "    'Carrots': 'Fruits and Vegetables', \n",
    "    'Sweetcorn': 'Fruits and Vegetables',\n",
    "    'Leaf vegetables': 'Fruits and Vegetables', \n",
    "    'Other vegetables': 'Fruits and Vegetables',\n",
    "    'Mixtures of two or more vegetables': 'Fruits and Vegetables',\n",
    "    'Mushrooms': 'Fruits and Vegetables',\n",
    "    'Potatoes': 'Fruits and Vegetables',\n",
    "    'Potato mixed dishes': 'Fruits and Vegetables',\n",
    "    'Pumpkin': 'Fruits and Vegetables',\n",
    "    'Seaweeds': 'Fruits and Vegetables',\n",
    "    'Sprouts': 'Fruits and Vegetables',\n",
    "    'Squash and zucchini': 'Fruits and Vegetables',\n",
    "    'Tomato': 'Fruits and Vegetables',\n",
    "    'Tomato products': 'Fruits and Vegetables',\n",
    "    'Wild harvested vegetables': 'Fruits and Vegetables',\n",
    "    'Onion, leek and garlic': 'Fruits and Vegetables',\n",
    "\n",
    "    # Snacks\n",
    "    'Corn chips': 'Snacks',\n",
    "    'Extruded snacks': 'Snacks', \n",
    "    'Popcorn': 'Snacks', \n",
    "    'Potato crisps': 'Snacks',\n",
    "    'Potato products': 'Snacks',\n",
    "    'Other snacks': 'Snacks',\n",
    "\n",
    "    # Confectionery\n",
    "    'Chocolate-based confectionery with nut fillings or additions': 'Confectionery',\n",
    "    'Chocolate-based confectionery with other fillings or additions': 'Confectionery',\n",
    "    'Chocolate (plain, unfilled varieties)': 'Confectionery',\n",
    "    'Lollies and other confectionery, sugar sweetened': 'Confectionery',\n",
    "    'Sugar-based desserts': 'Confectionery',\n",
    "    'Fruit bar and fruit-based confectionery': 'Confectionery',\n",
    "    'Nut and seed based confectionery': 'Confectionery',\n",
    "    'Chocolate and chocolate-based confectionery': 'Confectionery',\n",
    "    'Doughnuts': 'Confectionery',\n",
    "\n",
    "    # Instant Food\n",
    "    'Dry soup mix containing meat, poultry or seafood': 'Instant Food',\n",
    "    'Soup containing meat, poultry or seafood': 'Instant Food',\n",
    "    'Dry soup mix, vegetable only': 'Instant Food',\n",
    "\n",
    "    # Ready Meals\n",
    "    'Savoury rice-based dishes, saturated fat <=5 g/100 g': 'Ready Meals',\n",
    "\n",
    "    # Sanwiches and Wraps\n",
    "    'Sandwiches and filled rolls, saturated fat <=5 g/100 g': 'Sandwiches and Wraps',\n",
    "\n",
    "    # Fast Food and Takeaway\n",
    "     'Pizza, saturated fat <=5 g/100 g': 'Fast Food and Takeaway',\n",
    "\n",
    "    # Flours and Starches\n",
    "    'Cereal flours and starches': 'Flours and Starches',\n",
    "    'Cereal flours and starches, fortified': 'Flours and Starches',\n",
    "\n",
    "    # Powdered Drinks\n",
    "    'Dry coffee powder, caffeinated or decaffeinated': 'Powdered Drinks',\n",
    "    'Dry or concentrate coffee-based mixes': 'Powdered Drinks',\n",
    "    'Sport and protein, dry powders': 'Powdered Drinks',\n",
    "\n",
    "}"
   ]
  },
  {
   "cell_type": "code",
   "execution_count": 29,
   "metadata": {},
   "outputs": [],
   "source": [
    "# Create a new column in final_df using mapping \n",
    "final_df['Category'] = final_df['Classification Name'].map(category_mapping)"
   ]
  },
  {
   "cell_type": "markdown",
   "metadata": {},
   "source": [
    "## Adding 'Standard Serve' Column to the Data in a New Excel Sheet\n",
    "- We add nformation about the standard serving sizes for each food item. \n",
    "Source: https://nutritionaustralia.org/app/uploads/2022/03/Australian-Dietary-Guidelines-Standard-serves.pdf\n",
    "\n",
    "**Creating a Copy of the Final DataFrame**:\n",
    "- We start by creating a copy of our `final_df` and add the 'Standard Serve' column. This column will provide the standard serving size information for each food item.\n",
    "- We will  recalculate nutritional values in this new DataFrame to reflect the serving sizes."
   ]
  },
  {
   "cell_type": "code",
   "execution_count": 30,
   "metadata": {},
   "outputs": [],
   "source": [
    "final_df2 = final_df.copy()\n",
    "\n",
    "# Assign a missing value in every row in the new column, `Serving Size`\n",
    "final_df2['Serving Size (g)'] = pd.NA\n",
    "\n",
    "column_order = [\n",
    "    'Public Food Key', 'Food Name', 'Classification', \n",
    "    'Classification Name', 'Serving Size (g)', \n",
    "    'Protein \\n(g)', 'Fat, total \\n(g)', \n",
    "    'Available carbohydrate, with sugar alcohols \\n(g)', \n",
    "    'Total dietary fibre \\n(g)', 'Total sugars (g)', \n",
    "    'Added sugars (g)', 'Free sugars \\n(g)', \n",
    "    'Starch \\n(g)', 'Caffeine \\n(mg)', \n",
    "    'Energy with dietary fibre, equated \\n(kJ)', \n",
    "    'Energy with dietary fibre, equated \\n(kCal)', \n",
    "    'Category'\n",
    "]\n",
    "\n",
    "# Reorder the columns\n",
    "final_df2 = final_df2[column_order]"
   ]
  },
  {
   "cell_type": "markdown",
   "metadata": {},
   "source": [
    "## Adjusting Nutritional Values Based on Serving Size\n",
    "- We create two primary functions, `target_energy` and `adjust_serving_size`, which will be used to adjust the nutritional values in the `final_df2` DataFrame. The adjustments are based on the serving sizes calculated for different food categories.\n",
    "- Nutritional values in each row are modified to reflect the appropriate serving size for the food item's category.\n",
    "\n",
    "### `target_energy` function:\n",
    "- Calculates the serving size based on a target energy value (in kJ) and adjusts nutritional values accordingly.\n",
    "\n",
    "### `adjust_serving_size` function:\n",
    "- **Predefined Serving Sizes**: Applies specific serving sizes for categories like 'Spices and Cooking Ingredients', 'Fats and Oils', 'Sauce, Dressing and Condiments', and 'Spreads and Dips'.\n",
    "- **Category-Specific Adjustments**:\n",
    "  - For categories in `adjust_500`, `adjust_600`, and `adjust_350`, it uses the `target_energy` function with respective target energies.\n",
    "  - Sets serving size to 125g for 'Beverages' category containing 'juice'.\n",
    "  - Defaults to `target_energy` with a target of 600kJ for all other categories.\n",
    "\n",
    "**Note on Standard Serving Sizes**: The standard serving sizes in this analysis are primarily based on the minimum energy value recommendations of the Australian Dietary Guidelines, with some exceptions:\n",
    "- For `Fruits and Vegetables`, the serving size is set according to the maximum target energy value recommended by the guidelines.\n",
    "- For `Spices and Cooking Ingredients`, a fixed serving size of 2 grams per serve is used.\n",
    "- For all categories not explicitly mentioned in the guidelines, they are categorized as 'Discretionary Choices'. The Australian Dietary Guidelines suggest a standard intake of 600 KJ per serve for these items.\n"
   ]
  },
  {
   "cell_type": "code",
   "execution_count": 31,
   "metadata": {},
   "outputs": [],
   "source": [
    "def target_energy(row, target_energy_kj):\n",
    "    energy_per_100g = row['Energy with dietary fibre, equated \\n(kJ)']\n",
    "\n",
    "    # Check if energy_per_100g is zero to avoid division by zero (python error)\n",
    "    if energy_per_100g == 0:\n",
    "        if row['Category'] == 'Spices and Cooking Ingredients':\n",
    "            serving_size = 2  \n",
    "        else:\n",
    "            # For other categories, set 100 as the serving size\n",
    "            serving_size = 100\n",
    "    else:\n",
    "        serving_size = (target_energy_kj / energy_per_100g) * 100\n",
    "\n",
    "    scale_factor = serving_size / 100\n",
    "\n",
    "    # Adjusting nutritional values\n",
    "    row['Protein \\n(g)'] *= scale_factor\n",
    "    row['Fat, total \\n(g)'] *= scale_factor\n",
    "    row['Available carbohydrate, with sugar alcohols \\n(g)'] *= scale_factor\n",
    "    row['Total dietary fibre \\n(g)'] *= scale_factor\n",
    "    row['Total sugars (g)'] *= scale_factor\n",
    "    row['Added sugars (g)'] *= scale_factor\n",
    "    row['Free sugars \\n(g)'] *= scale_factor\n",
    "    row['Starch \\n(g)'] *= scale_factor\n",
    "    row['Caffeine \\n(mg)'] *= scale_factor\n",
    "    row['Energy with dietary fibre, equated \\n(kJ)'] = target_energy_kj\n",
    "    row['Energy with dietary fibre, equated \\n(kCal)'] *= scale_factor\n",
    "    row['Serving Size (g)'] = serving_size\n",
    "\n",
    "    return row\n",
    "\n",
    "\n",
    "def adjust_serving_size(row):\n",
    "    # Predefined serving sizes for certain categories\n",
    "    predefined_serving_sizes = {\n",
    "        'Spices and Cooking Ingredients': 2,\n",
    "        'Fats and Oils': 13,\n",
    "        'Sauce, Dressing and Condiments': 20,\n",
    "        'Spreads and Dips': 20\n",
    "    }\n",
    "\n",
    "    # Categories with target energy adjustments\n",
    "    adjust_500 = [\n",
    "        'Cakes and Cake Mixes', 'Bread', 'Confectionery', 'Dairy', 'Dairy Alternatives', \n",
    "        'Egg Products', 'Fish and Seafood', 'Legumes and Pulses', 'Meat and Meat Products', \n",
    "        'Pasta and Noodles', 'Poultry and Poultry Products', 'Quick Breakfasts', 'Rice, Grains, Nuts and Seeds'\n",
    "    ]\n",
    "    adjust_600 = [\n",
    "        'Fast Food and Takeaway', 'Confectionery', 'Instant Food', 'Pastries', 'Ready Meals', \n",
    "        'Sandwiches and Wraps', 'Savoury Biscuits and Crackers', 'Sweet Biscuits and Cookies', 'Snacks'\n",
    "    ]\n",
    "    adjust_350 = ['Fruits and Vegetables']\n",
    "\n",
    "    # Apply predefined serving sizes\n",
    "    if row['Category'] in predefined_serving_sizes:\n",
    "        serving_size = predefined_serving_sizes[row['Category']]\n",
    "    elif row['Category'] in adjust_500:\n",
    "        return target_energy(row, 500)\n",
    "    elif row['Category'] in adjust_600:\n",
    "        return target_energy(row, 600)\n",
    "    elif row['Category'] in adjust_350:\n",
    "        return target_energy(row, 350)\n",
    "    elif row['Category'] == 'Beverages' and 'juice' in row['Food Name'].lower():\n",
    "        serving_size = 125\n",
    "    else:\n",
    "        return target_energy(row, 600)\n",
    "\n",
    "    # Calculate scale factor for nutritional adjustments\n",
    "    scale_factor = serving_size / 100\n",
    "\n",
    "    # Adjust nutritional values for predefined serving sizes\n",
    "    row['Protein \\n(g)'] *= scale_factor\n",
    "    row['Fat, total \\n(g)'] *= scale_factor\n",
    "    row['Available carbohydrate, with sugar alcohols \\n(g)'] *= scale_factor\n",
    "    row['Total dietary fibre \\n(g)'] *= scale_factor\n",
    "    row['Total sugars (g)'] *= scale_factor\n",
    "    row['Added sugars (g)'] *= scale_factor\n",
    "    row['Free sugars \\n(g)'] *= scale_factor\n",
    "    row['Starch \\n(g)'] *= scale_factor\n",
    "    row['Caffeine \\n(mg)'] *= scale_factor\n",
    "    row['Energy with dietary fibre, equated \\n(kJ)'] *= scale_factor\n",
    "    row['Energy with dietary fibre, equated \\n(kCal)'] *= scale_factor\n",
    "    row['Serving Size (g)'] = serving_size\n",
    "\n",
    "    return row\n",
    "\n",
    "      \n",
    "# Apply the function to the DataFrame\n",
    "final_df2 = final_df2.apply(adjust_serving_size, axis=1)\n"
   ]
  },
  {
   "cell_type": "markdown",
   "metadata": {},
   "source": [
    "## Applying rounding to specified columns"
   ]
  },
  {
   "cell_type": "code",
   "execution_count": 32,
   "metadata": {},
   "outputs": [],
   "source": [
    "# Round the 'Serving Size (g)' column to the nearest whole number\n",
    "final_df2['Serving Size (g)'] = final_df2['Serving Size (g)'].round(0).astype(int)"
   ]
  },
  {
   "cell_type": "code",
   "execution_count": 33,
   "metadata": {},
   "outputs": [],
   "source": [
    "# List of columns to be rounded\n",
    "columns_to_round = [\n",
    "    \"Protein \\n(g)\", \"Fat, total \\n(g)\", \n",
    "    \"Available carbohydrate, with sugar alcohols \\n(g)\", \n",
    "    \"Total dietary fibre \\n(g)\", \"Total sugars (g)\", \n",
    "    \"Added sugars (g)\", \"Free sugars \\n(g)\", \n",
    "    \"Starch \\n(g)\", \"Caffeine \\n(mg)\", \n",
    "    \"Energy with dietary fibre, equated \\n(kJ)\", \n",
    "    \"Energy with dietary fibre, equated \\n(kCal)\"\n",
    "]\n",
    "\n",
    "# Applying rounding \n",
    "final_df2[columns_to_round] = final_df2[columns_to_round].round(2)\n",
    "final_df[columns_to_round] = final_df[columns_to_round].round(2)\n"
   ]
  },
  {
   "cell_type": "markdown",
   "metadata": {},
   "source": [
    "## Exporting Data to Excel\n",
    "- We export the processed data to an Excel file:\n",
    "\n",
    "- **DataFrames Exported**:\n",
    "  - `final_df` is saved in the sheet named 'Nutritional Values per 100g'. This sheet contains nutritional values standardized per 100 grams of each food item.\n",
    "  - `final_df2` is saved in the sheet named 'Nutritional Values per Serving'. This sheet includes nutritional values based on the calculated serving sizes as per the Australian Dietary Guidelines."
   ]
  },
  {
   "cell_type": "code",
   "execution_count": 34,
   "metadata": {},
   "outputs": [],
   "source": [
    "with pd.ExcelWriter('data//database//NutritionDataAU_022224.xlsx') as writer:\n",
    "    final_df.to_excel(writer, sheet_name='Nutritional Values per 100g')\n",
    "    final_df2.to_excel(writer, sheet_name='Nutritional Values per Serving')"
   ]
  }
 ],
 "metadata": {
  "kernelspec": {
   "display_name": "Python 3",
   "language": "python",
   "name": "python3"
  },
  "language_info": {
   "codemirror_mode": {
    "name": "ipython",
    "version": 3
   },
   "file_extension": ".py",
   "mimetype": "text/x-python",
   "name": "python",
   "nbconvert_exporter": "python",
   "pygments_lexer": "ipython3",
   "version": "3.12.1"
  }
 },
 "nbformat": 4,
 "nbformat_minor": 2
}
