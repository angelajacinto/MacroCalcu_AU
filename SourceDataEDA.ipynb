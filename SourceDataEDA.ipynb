{
 "cells": [
  {
   "cell_type": "markdown",
   "metadata": {},
   "source": [
    "## Imports"
   ]
  },
  {
   "cell_type": "code",
   "execution_count": 3,
   "metadata": {},
   "outputs": [],
   "source": [
    "import pandas as pd\n",
    "import numpy as np"
   ]
  },
  {
   "cell_type": "markdown",
   "metadata": {},
   "source": [
    "## Data Input\n",
    "Source : https://www.foodstandards.gov.au/science-data/monitoringnutrients/afcd/australian-food-composition-database-download-excel-files"
   ]
  },
  {
   "cell_type": "code",
   "execution_count": 4,
   "metadata": {},
   "outputs": [],
   "source": [
    "data_path = \"data//source//\""
   ]
  },
  {
   "cell_type": "markdown",
   "metadata": {},
   "source": [
    "## Data Loading from Excel Files\n",
    "In this section, we are loading two different datasets obtained from the Australian Food Composition Database using the Pandas library. \n",
    "We are loading it using `pd.read_excel` located in a directory path specified by the variable `data_path`.\n",
    "\n",
    "1. **Food Dataset**: \n",
    "   - This dataset contains background information relating to each food.\n",
    "\n",
    "2. **Nutrient Dataset**: \n",
    "   - This dataset contains the nutrient data available for each food, with the nutrient data provided in two ways where tab 1: Per 100 g – all foods and all beverages are reported per 100 g edible portion and tab 2: Per 100 mL – beverages and other liquid foods only, reported per 100 mL edible portion."
   ]
  },
  {
   "cell_type": "code",
   "execution_count": 5,
   "metadata": {},
   "outputs": [],
   "source": [
    "food = pd.read_excel(data_path + 'food_file.xlsx')\n",
    "nutrient = pd.read_excel(data_path + 'nutrient_file.xlsx', sheet_name = 'All solids & liquids per 100g')"
   ]
  },
  {
   "cell_type": "markdown",
   "metadata": {},
   "source": [
    "## Data Preprocessing \n",
    "We check for missing values across all columns in the `food` and then the `nutrient` dataset. \n",
    "\n",
    "### Output Interpretation:\n",
    "From the output, we observe that most columns do not have missing values (`False`). However, columns like `Classification` and `Classification Name` do contain missing values (`True`). This insight will guide us in handling these missing values, which could involve imputing them, dropping them, or analyzing them further to understand the reasons behind their absence."
   ]
  },
  {
   "cell_type": "code",
   "execution_count": 6,
   "metadata": {},
   "outputs": [
    {
     "data": {
      "text/plain": [
       "Public Food Key        False\n",
       "Food Profile ID        False\n",
       "Derivation             False\n",
       "Food Name              False\n",
       "Food Description       False\n",
       "Sampling Details       False\n",
       "Nitrogen Factor        False\n",
       "Fat Factor             False\n",
       "Specific Gravity       False\n",
       "Analysed Portion       False\n",
       "Unanalysed Portion     False\n",
       "Classification          True\n",
       "Classification Name     True\n",
       "dtype: bool"
      ]
     },
     "execution_count": 6,
     "metadata": {},
     "output_type": "execute_result"
    }
   ],
   "source": [
    "food.isna().any()"
   ]
  },
  {
   "cell_type": "markdown",
   "metadata": {},
   "source": [
    "## Quantifying Missing Values in `Classification` and `Classification Name` columns\n",
    "This step helps in understanding the extent of missing data and informs subsequent data cleaning or imputation strategies.\n",
    "The output is printed to give a clear count of how many missing values are present in each of these columns.\n",
    "\n",
    "### Output Interpretation:\n",
    "- The printed output indicates that there is only 1 missing value in both the `Classification` and `Classification Name` columns.\n",
    "\n",
    "- **Matching Number of Missing Values**: The fact that both columns have exactly 1 missing value each suggests a possibility that the missing value in both columns comes from the same row. This could occur, for example, if a particular food item was not properly classified, resulting in missing entries in both related columns."
   ]
  },
  {
   "cell_type": "code",
   "execution_count": 7,
   "metadata": {},
   "outputs": [
    {
     "name": "stdout",
     "output_type": "stream",
     "text": [
      "Sum of missing values in 'classification' column: 1\n",
      "Sum of missing values in 'classification name' column: 1\n"
     ]
    }
   ],
   "source": [
    "missing_values_sum_classification = food['Classification'].isna().sum()\n",
    "missing_values_sum_classification_name = food['Classification Name'].isna().sum()\n",
    "\n",
    "print(\"Sum of missing values in 'classification' column:\", missing_values_sum_classification)\n",
    "print(\"Sum of missing values in 'classification name' column:\", missing_values_sum_classification_name)"
   ]
  },
  {
   "cell_type": "markdown",
   "metadata": {},
   "source": [
    "## Identifying Rows with Missing Values in the Food Dataset\n",
    "In this section, we focus on pinpointing the exact rows in the `food` dataset that contain missing values. \n",
    "\n",
    "### Output Interpretation:\n",
    "- The output shows `Index([1616], dtype='int64')`, indicating that row index 1616 in the pandas DataFrame contains missing values.\n",
    "- Note that the pandas index 1616 corresponds to row number 1618 in the Excel file since pandas indexing starts at 0, whereas Excel's row numbering starts at 1. In addition, Excel often has a header row which pandas considers as part of the data.\n",
    "- The row at index 1616, identified as having missing values, is actually just a repetition of the column headers, and can be safely removed from the dataset without losing any valuable data."
   ]
  },
  {
   "cell_type": "code",
   "execution_count": 8,
   "metadata": {},
   "outputs": [
    {
     "name": "stdout",
     "output_type": "stream",
     "text": [
      "Index([1616], dtype='int64')\n"
     ]
    }
   ],
   "source": [
    "nan_row_indices = food[food.isna().any(axis=1)].index\n",
    "print(nan_row_indices)"
   ]
  },
  {
   "cell_type": "markdown",
   "metadata": {},
   "source": [
    "## Removing Duplicate Header Row from the DataFrame\n",
    "- We drop the row to ensure the integrity and cleanliness of our dataset."
   ]
  },
  {
   "cell_type": "code",
   "execution_count": 9,
   "metadata": {},
   "outputs": [],
   "source": [
    "food = food.drop(1616)"
   ]
  },
  {
   "cell_type": "markdown",
   "metadata": {},
   "source": [
    "## Removing unnecessary columns for Macro Food Calculator Database\n",
    "We retain only the most relevant fields, such as the unique code Public Food Key, food name, and detailed description."
   ]
  },
  {
   "cell_type": "code",
   "execution_count": 10,
   "metadata": {},
   "outputs": [],
   "source": [
    "food.drop(['Derivation', 'Food Profile ID', 'Sampling Details', 'Specific Gravity', 'Analysed Portion', 'Unanalysed Portion', 'Nitrogen Factor', 'Fat Factor'], axis=1, inplace=True, errors = 'ignore')"
   ]
  },
  {
   "cell_type": "markdown",
   "metadata": {},
   "source": [
    "# Identifying Missing Values in `Nutrient` dataset\n",
    "## Output Interpretation\n",
    "- Columns such as `Classification`, `Serine (mg)`, `Threonine (mg)`, `Tyrosine (mg)`, and `Valine (mg)` show `True`, which tell us that these nutrients have missing data points for some food items."
   ]
  },
  {
   "cell_type": "code",
   "execution_count": 11,
   "metadata": {},
   "outputs": [
    {
     "data": {
      "text/plain": [
       "Public Food Key                                  False\n",
       "Classification                                    True\n",
       "Food Name                                        False\n",
       "Energy with dietary fibre, equated \\n(kJ)        False\n",
       "Energy, without dietary fibre, equated \\n(kJ)    False\n",
       "                                                 ...  \n",
       "Serine \\n(mg)                                     True\n",
       "Threonine \\n(mg)                                  True\n",
       "Tyrosine \\n(mg)                                   True\n",
       "Tryptophan \\n(mg)                                False\n",
       "Valine \\n(mg)                                     True\n",
       "Length: 293, dtype: bool"
      ]
     },
     "execution_count": 11,
     "metadata": {},
     "output_type": "execute_result"
    }
   ],
   "source": [
    "nutrient.isna().any()"
   ]
  },
  {
   "cell_type": "markdown",
   "metadata": {},
   "source": [
    "## Locating Rows with Missing 'Classification' in the Nutrient Dataset\n",
    "- The code below filters out rows where the `Classification` column is `NaN` and retrieve their indices.\n",
    "\n",
    "### Output Interpretation:\n",
    "- These indices correspond to rows 126 and 132 in the pandas DataFrame. \n",
    "- As we investigate the rows with missing data, we notice that "
   ]
  },
  {
   "cell_type": "code",
   "execution_count": 12,
   "metadata": {},
   "outputs": [
    {
     "name": "stdout",
     "output_type": "stream",
     "text": [
      "Index([126, 132], dtype='int64')\n"
     ]
    }
   ],
   "source": [
    "nan_indices = nutrient[nutrient['Classification'].isna()].index\n",
    "print(nan_indices) "
   ]
  },
  {
   "cell_type": "markdown",
   "metadata": {},
   "source": [
    "## Filling Missing 'Classification' Values in the Nutrient Dataset Using Data from the Food Dataset\n",
    "- First, we create `classification_map`, a Series from the `food` DataFrame. In this Series, 'Public Food Key' is set as the index, and 'Classification' is the value. This mapping provides a reference to look up the 'Classification' of each food item based on its unique key.\n",
    "- Next, we use this mapping to fill in missing 'Classification' values in the `nutrient` DataFrame. "
   ]
  },
  {
   "cell_type": "code",
   "execution_count": 13,
   "metadata": {},
   "outputs": [],
   "source": [
    "# Mapping Series from the 'food' DataFrame where 'Public Food Key' is the index and 'Classification' is the value\n",
    "classification_map = food.set_index('Public Food Key')['Classification']\n",
    "\n",
    "# Use the map to fill NaN values in the 'Classification' column of 'nutrient' DataFrame\n",
    "nutrient['Classification'] = nutrient['Classification'].fillna(nutrient['Public Food Key'].map(classification_map))"
   ]
  },
  {
   "cell_type": "markdown",
   "metadata": {},
   "source": [
    "## Removing unnecessary columns for Macro Food Calculator Database"
   ]
  },
  {
   "cell_type": "code",
   "execution_count": 14,
   "metadata": {},
   "outputs": [],
   "source": [
    "# Drop unncessary columns from the 'nutrient' df\n",
    "columns_to_keep = [\n",
    "    'Public Food Key', 'Classification', 'Food Name', \n",
    "    'Energy with dietary fibre, equated \\n(kJ)',\n",
    "    'Protein \\n(g)', 'Fat, total \\n(g)',\n",
    "    'Total dietary fibre \\n(g)', 'Total sugars (g)', \n",
    "    'Added sugars (g)', 'Free sugars \\n(g)', 'Starch \\n(g)',\n",
    "    'Available carbohydrate, with sugar alcohols \\n(g)',\n",
    "    'Caffeine \\n(mg)'\n",
    "]\n",
    "\n",
    "# Index the DataFrame with this list to keep only these columns\n",
    "nutrient = nutrient[columns_to_keep]"
   ]
  },
  {
   "cell_type": "markdown",
   "metadata": {},
   "source": [
    "## Dataframe Merging \n",
    "**Setting Index**:\n",
    "- We prepare `nutrient` and `food` DataFrames for merging by setting their 'Public Food Key' columns as indexes."
   ]
  },
  {
   "cell_type": "code",
   "execution_count": 15,
   "metadata": {},
   "outputs": [],
   "source": [
    "# Setting 'Public Food Key' as index for original dfs\n",
    "nutrient.set_index('Public Food Key', inplace=True)\n",
    "food.set_index('Public Food Key', inplace=True)"
   ]
  },
  {
   "cell_type": "markdown",
   "metadata": {},
   "source": [
    "## Checking for Column Consistency Across `nutrient` and `food` DataFrames\n",
    "\n",
    "**Identifying Common Keys**:\n",
    "  - Finding common indices from `Public Food Key` in both DataFrames using `intersection`. \n",
    "\n",
    "### Output Interpretation:\n",
    "- The output `False` for the 'Classification' column indicates discrepancies between the two datasets. This suggests that for some common food items, the classification differs between the `nutrient` and `food` DataFrames.\n"
   ]
  },
  {
   "cell_type": "code",
   "execution_count": 16,
   "metadata": {},
   "outputs": [
    {
     "name": "stdout",
     "output_type": "stream",
     "text": [
      "Food Name columns identical for common primary keys in both dataframes? True\n",
      "Classification columns identical for common primary keys in both dataframes? False\n"
     ]
    }
   ],
   "source": [
    "# Find the common keys in both dataframes\n",
    "common_keys = nutrient.index.intersection(food.index)\n",
    "\n",
    "# Iterate through each column to compare\n",
    "for column in ['Food Name', 'Classification']:\n",
    "    # Compare the columns for common keys and check if all matching\n",
    "    matching_columns = nutrient.loc[common_keys, column].equals(food.loc[common_keys, column])\n",
    "    print(f\"{column} columns identical for common primary keys in both dataframes?\", matching_columns)"
   ]
  },
  {
   "cell_type": "markdown",
   "metadata": {},
   "source": [
    "## Investigating Discrepancies in 'Classification' Column Across DataFrames\n",
    "Since the previous code identified a discrepancy in the 'Classification' column between the `nutrient` and `food` DataFrames, we further investigate to pinpoint the exact mismatches.\n",
    "\n",
    "### Output Interpretation:\n",
    "- We find a mismatch for the key `F009802`, indicating that the classification for this particular food item is different in the `nutrient` DataFrame compared to the `food` DataFrame."
   ]
  },
  {
   "cell_type": "code",
   "execution_count": 17,
   "metadata": {},
   "outputs": [
    {
     "name": "stdout",
     "output_type": "stream",
     "text": [
      "Mismatches in 'Classification' for keys: ['F009802']\n"
     ]
    }
   ],
   "source": [
    "# Find mismatches in the current column\n",
    "mismatch_mask = nutrient.loc[common_keys, 'Classification'] != food.loc[common_keys, 'Classification']\n",
    "mismatched_keys = mismatch_mask[mismatch_mask].index.tolist()\n",
    "\n",
    "# Print the keys where mismatches were found\n",
    "if mismatched_keys:  # If the list is not empty\n",
    "        print(f\"Mismatches in '{column}' for keys:\", mismatched_keys)\n",
    "else:\n",
    "        print(f\"No mismatches found in '{column}' column.\")"
   ]
  },
  {
   "cell_type": "markdown",
   "metadata": {},
   "source": [
    "## Resolving the Classification Discrepancy for Key 'F009802'\n",
    "\n",
    "**Accessing Classification Data**:\n",
    "  - We access the 'Classification' data for the key 'F009802' in both `food` and `nutrient` DataFrames using the `loc` method to directly compare the classification values assigned in each dataset.\n",
    " \n",
    "### Output Interpretation:\n",
    "- The output reveals that the classification codes for this particular food item are different in the two datasets, with `food` having a classification of `28202.0` and `nutrient` having `28301.0`."
   ]
  },
  {
   "cell_type": "code",
   "execution_count": 18,
   "metadata": {},
   "outputs": [
    {
     "name": "stdout",
     "output_type": "stream",
     "text": [
      "28202.0\n",
      "28301.0\n"
     ]
    }
   ],
   "source": [
    "# Accessing data by the index 'F009802'\n",
    "food_classification = food.loc['F009802', 'Classification']\n",
    "print(food_classification)\n",
    "\n",
    "nutrient_classification = nutrient.loc['F009802', 'Classification']\n",
    "print(nutrient_classification)"
   ]
  },
  {
   "cell_type": "markdown",
   "metadata": {},
   "source": [
    "## Updating Classification for Key 'F009802'\n",
    "We have chosen to update the classification in the `food` DataFrame to match that in the `nutrient` DataFrame.\n",
    "\n",
    "**Rationale for Choosing '28301.0'**:\n",
    "  - The key 'F009802' corresponds to a 'Bar, snack, with >35% nuts, added protein'. In the `nutrient` DataFrame, this item is classified as '28301.0', while in the `food` DataFrame, it is classified as '28202.0'.\n",
    "  - Upon closer examination, we found that another item, 'F009801' (Bar, snack, with >55% nuts), is consistently classified as '28202' in both dataframes. This consistency suggests that '28202' might represent a general category for nut-based snack bars.\n",
    "  - However, since 'F009802' includes added protein, which could differentiate it nutritionally and categorically, the classification '28301.0' in the `nutrient` DataFrame may more accurately reflect its unique characteristics. Therefore, we choose to align the `food` DataFrame with this classification.\n"
   ]
  },
  {
   "cell_type": "code",
   "execution_count": 19,
   "metadata": {},
   "outputs": [
    {
     "name": "stderr",
     "output_type": "stream",
     "text": [
      "/var/folders/ww/sdpjdv8n5bxg6ylcbh7qm0vc0000gn/T/ipykernel_73969/1849043427.py:2: FutureWarning: Setting an item of incompatible dtype is deprecated and will raise an error in a future version of pandas. Value '28301.0' has dtype incompatible with float64, please explicitly cast to a compatible dtype first.\n",
      "  food.loc['F009802', 'Classification'] = '28301.0'\n"
     ]
    }
   ],
   "source": [
    "# Updating the 'Classification' value for the row with 'Public Food Key' of 'F009802'\n",
    "food.loc['F009802', 'Classification'] = '28301.0'"
   ]
  },
  {
   "cell_type": "markdown",
   "metadata": {},
   "source": [
    "## Verifying the Alignment of 'Classification' Columns Across Both DataFrames\n",
    "We perform a final check to ensure alignment and consistency across the `food` and `nutrient` DataFrames.\n",
    "\n",
    "### Output Interpretation:\n",
    "- The output indicates that there are still some mismatches in the 'Classification' column between the food and nutrient DataFrames for certain common items."
   ]
  },
  {
   "cell_type": "code",
   "execution_count": 22,
   "metadata": {},
   "outputs": [
    {
     "name": "stdout",
     "output_type": "stream",
     "text": [
      "Do 'Classification' columns match for all common 'Public Food Key'? True\n"
     ]
    }
   ],
   "source": [
    "# Compare 'Classification' columns for common keys\n",
    "classification_match = (food.loc[common_keys, 'Classification'] == nutrient.loc[common_keys, 'Classification']).all()\n",
    "print(\"Do 'Classification' columns match for all common 'Public Food Key'?\", classification_match)"
   ]
  },
  {
   "cell_type": "markdown",
   "metadata": {},
   "source": [
    "## Converting 'Classification' Column to String Type for Consistency\n",
    "- We convert both columns as strings, eliminating data type mismatches.\n",
    "- If we run the code above once again, the mismatch in the `Clasffication` column will be resolved. "
   ]
  },
  {
   "cell_type": "code",
   "execution_count": 21,
   "metadata": {},
   "outputs": [],
   "source": [
    "nutrient['Classification'] = nutrient['Classification'].astype(str)\n",
    "food['Classification'] = food['Classification'].astype(str)"
   ]
  }
 ],
 "metadata": {
  "kernelspec": {
   "display_name": "Python 3",
   "language": "python",
   "name": "python3"
  },
  "language_info": {
   "codemirror_mode": {
    "name": "ipython",
    "version": 3
   },
   "file_extension": ".py",
   "mimetype": "text/x-python",
   "name": "python",
   "nbconvert_exporter": "python",
   "pygments_lexer": "ipython3",
   "version": "3.12.1"
  }
 },
 "nbformat": 4,
 "nbformat_minor": 2
}
